{
 "cells": [
  {
   "cell_type": "code",
   "execution_count": null,
   "metadata": {},
   "outputs": [],
   "source": [
    "'''\n",
    "sentdex Deep Learing Tutorial \n",
    "https://www.youtube.com/channel/UCfzlCWGWYyIQ0aLC5w48gBQ\n",
    "'''"
   ]
  },
  {
   "cell_type": "code",
   "execution_count": null,
   "metadata": {},
   "outputs": [],
   "source": [
    "import numpy as np\n",
    "import matplotlib.pyplot as plt\n",
    "import os, cv2\n",
    "from ipdb import set_trace\n",
    "from tqdm import tqdm\n",
    "import random , time \n",
    "\n",
    "import tensorflow as tf\n",
    "from tensorflow.keras.models import Sequential\n",
    "from tensorflow.keras.layers import Dense,Dropout,Activation,Flatten,Conv2D,MaxPooling2D\n",
    "from tensorflow.keras.callbacks import TensorBoard"
   ]
  },
  {
   "cell_type": "code",
   "execution_count": null,
   "metadata": {},
   "outputs": [],
   "source": [
    "def build_dataset(data_dir = \"c:/data/Datasets/PetImages/\"):\n",
    "    DATA_DIR = data_dir\n",
    "    CATEGORY = ['Dog','Cat']\n",
    "    training_data = []\n",
    "    label = 0\n",
    "    IMG_SIZE = 50\n",
    "    for category in CATEGORY:\n",
    "        path = os.path.join(DATA_DIR,category)\n",
    "        print('Working with category: ',category, '\\nDir path: ',path)\n",
    "        try:\n",
    "            for img in tqdm(os.listdir(path)):\n",
    "                #set_trace()\n",
    "                try:\n",
    "                    im_arr = cv2.imread(os.path.join(path,img),cv2.IMREAD_GRAYSCALE)\n",
    "                    new_arr = cv2.resize(im_arr,(IMG_SIZE,IMG_SIZE))\n",
    "                    training_data.append((new_arr,label))\n",
    "                except:\n",
    "                    pass\n",
    "            label +=1\n",
    "        except Excepting as e:\n",
    "            print('Exception occured: ',e)\n",
    "    random.shuffle(training_data)\n",
    "    print('Dataset length: ',len(training_data))\n",
    "    td_unziped = list(zip(*training_data))\n",
    "    X = np.array(td_unziped[0]).reshape(-1,IMG_SIZE,IMG_SIZE,1)\n",
    "    y = np.array(td_unziped[1])\n",
    "    X = X/255\n",
    "    np.save(DATA_DIR+'bin/X.npy',X)\n",
    "    np.save(DATA_DIR+'bin/y.npy',y)\n",
    "    print('Dataset Created and saved to: ', DATA_DIR,'bin/')"
   ]
  },
  {
   "cell_type": "code",
   "execution_count": null,
   "metadata": {},
   "outputs": [],
   "source": [
    "def load_dataset(data_dir = \"c:/data/Datasets/PetImages/\",samp_size=None):\n",
    "    X = np.load(data_dir+'bin/X.npy')\n",
    "    y = np.load(data_dir+'bin/y.npy')\n",
    "    if samp_size:\n",
    "        print('Warning: Data Sampling')\n",
    "        X = X[:samp_size]\n",
    "        y = y[:samp_size]\n",
    "    print(\"Data loaded from \", data_dir)\n",
    "    return (X,y)"
   ]
  },
  {
   "cell_type": "code",
   "execution_count": null,
   "metadata": {},
   "outputs": [],
   "source": [
    "#build_dataset()\n"
   ]
  },
  {
   "cell_type": "code",
   "execution_count": null,
   "metadata": {},
   "outputs": [],
   "source": [
    "def train_model(X, y):\n",
    "    MODEL_NAME = 'dogs-vs-cats-64x2-{}'.format(int(time.time()))\n",
    "    tensorboard  = TensorBoard(log_dir='logs/{}'.format(MODEL_NAME))\n",
    "    model = Sequential()\n",
    "    model.add(Conv2D(256, (3, 3), input_shape=X.shape[1:],activation='relu'))\n",
    "    model.add(MaxPooling2D(pool_size=(2,2)))\n",
    "\n",
    "\n",
    "    model.add(Conv2D(256, (3, 3),activation='relu'))\n",
    "    model.add(Activation(\"relu\"))\n",
    "    model.add(MaxPooling2D(pool_size=(2,2)))\n",
    "    model.add(Flatten())\n",
    "    model.add(Dense(64,activation='relu'))\n",
    "    model.add(Dense(1,activation='sigmoid'))\n",
    "\n",
    "    model.compile(loss='binary_crossentropy',\n",
    "                 optimizer='adam',\n",
    "                 metrics=['accuracy'])\n",
    "    model.fit(X, y, batch_size=32, epochs=3, validation_split=0.3,callbacks=[tensorboard])"
   ]
  },
  {
   "cell_type": "code",
   "execution_count": null,
   "metadata": {},
   "outputs": [],
   "source": [
    "X, y = load_dataset(samp_size=None)\n",
    "train_model(X, y)"
   ]
  },
  {
   "cell_type": "code",
   "execution_count": null,
   "metadata": {},
   "outputs": [],
   "source": [
    "model.predict(X[:5])"
   ]
  },
  {
   "cell_type": "code",
   "execution_count": null,
   "metadata": {},
   "outputs": [],
   "source": []
  }
 ],
 "metadata": {
  "kernelspec": {
   "display_name": "Python 3",
   "language": "python",
   "name": "python3"
  },
  "language_info": {
   "codemirror_mode": {
    "name": "ipython",
    "version": 3
   },
   "file_extension": ".py",
   "mimetype": "text/x-python",
   "name": "python",
   "nbconvert_exporter": "python",
   "pygments_lexer": "ipython3",
   "version": "3.6.5"
  }
 },
 "nbformat": 4,
 "nbformat_minor": 2
}
