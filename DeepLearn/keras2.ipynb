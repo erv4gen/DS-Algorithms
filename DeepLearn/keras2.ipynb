{
 "cells": [
  {
   "cell_type": "code",
   "execution_count": 3,
   "metadata": {},
   "outputs": [
    {
     "data": {
      "text/plain": [
       "'\\nsentdex Deep Learing Tutorial \\nhttps://www.youtube.com/channel/UCfzlCWGWYyIQ0aLC5w48gBQ\\n'"
      ]
     },
     "execution_count": 3,
     "metadata": {},
     "output_type": "execute_result"
    }
   ],
   "source": [
    "'''\n",
    "sentdex Deep Learing Tutorial \n",
    "https://www.youtube.com/channel/UCfzlCWGWYyIQ0aLC5w48gBQ\n",
    "'''"
   ]
  },
  {
   "cell_type": "code",
   "execution_count": 4,
   "metadata": {},
   "outputs": [],
   "source": [
    "import numpy as np\n",
    "import matplotlib.pyplot as plt\n",
    "import os, cv2\n",
    "from ipdb import set_trace\n",
    "from tqdm import tqdm"
   ]
  },
  {
   "cell_type": "code",
   "execution_count": 5,
   "metadata": {},
   "outputs": [],
   "source": [
    "DATA_DIR = \"c:/data/Datasets/PetImages/\"\n",
    "CATEGORY = ['Dog','Cat']"
   ]
  },
  {
   "cell_type": "code",
   "execution_count": 6,
   "metadata": {},
   "outputs": [],
   "source": [
    "def build_dataset():\n",
    "    training_data = []\n",
    "    label = 0\n",
    "    IMG_SIZE = 50\n",
    "    for category in CATEGORY:\n",
    "        path = os.path.join(DATA_DIR,category)\n",
    "        print('Working with category: ',category, '\\nDir path: ',path)\n",
    "        try:\n",
    "            for img in tqdm(os.listdir(path)):\n",
    "                #set_trace()\n",
    "                try:\n",
    "                    im_arr = cv2.imread(os.path.join(path,img),cv2.IMREAD_GRAYSCALE)\n",
    "                    new_arr = cv2.resize(im_arr,(IMG_SIZE,IMG_SIZE))\n",
    "                    training_data.append((new_arr,label))\n",
    "                except:\n",
    "                    pass\n",
    "            label +=1\n",
    "        except Excepting as e:\n",
    "            print('Exception occured: ',e)\n",
    "        \n",
    "    return training_data"
   ]
  },
  {
   "cell_type": "code",
   "execution_count": null,
   "metadata": {},
   "outputs": [
    {
     "name": "stdout",
     "output_type": "stream",
     "text": [
      "Working with category:  Dog \n",
      "Dir path:  c:/data/Datasets/PetImages/Dog\n"
     ]
    },
    {
     "name": "stderr",
     "output_type": "stream",
     "text": [
      "100%|███████████████████████████████████████████████████████████████████████████| 12501/12501 [01:02<00:00, 199.25it/s]\n"
     ]
    },
    {
     "name": "stdout",
     "output_type": "stream",
     "text": [
      "Working with category:  Cat \n",
      "Dir path:  c:/data/Datasets/PetImages/Cat\n"
     ]
    },
    {
     "name": "stderr",
     "output_type": "stream",
     "text": [
      " 10%|███████▊                                                                    | 1288/12501 [00:05<00:47, 235.96it/s]"
     ]
    }
   ],
   "source": [
    "training_data = build_dataset()"
   ]
  },
  {
   "cell_type": "code",
   "execution_count": null,
   "metadata": {},
   "outputs": [],
   "source": [
    "training_data"
   ]
  },
  {
   "cell_type": "code",
   "execution_count": null,
   "metadata": {},
   "outputs": [],
   "source": []
  }
 ],
 "metadata": {
  "kernelspec": {
   "display_name": "Python 3",
   "language": "python",
   "name": "python3"
  }
 },
 "nbformat": 4,
 "nbformat_minor": 2
}
